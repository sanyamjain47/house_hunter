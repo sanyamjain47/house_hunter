{
 "cells": [
  {
   "cell_type": "code",
   "execution_count": 1,
   "metadata": {},
   "outputs": [],
   "source": [
    "from selenium import webdriver\n",
    "from selenium.webdriver.common.by import By\n",
    "from selenium.webdriver.common.keys import Keys\n",
    "from selenium.webdriver.common.action_chains import ActionChains\n",
    "import pandas as pd\n",
    "import json\n",
    "import time\n",
    "import numpy as np\n",
    "from helper_functions import *\n"
   ]
  },
  {
   "cell_type": "code",
   "execution_count": 2,
   "metadata": {},
   "outputs": [],
   "source": [
    "# Example usage\n",
    "suburbs = [\n",
    "    (\"mascot\", \"2020\"),\n",
    "    (\"rosebery\", \"2018\"),\n",
    "    (\"alexandria\", \"2015\"),\n",
    "    (\"botany\", \"2019\"),\n",
    "    (\"randwick\", \"2031\"),\n",
    "    (\"waterloo\", \"2017\")\n",
    "]\n",
    "\n",
    "bedrooms = 2\n",
    "price_range = (0, 800)\n",
    "keywords = [\"air condition\", \"study\"]\n",
    "\n",
    "URL = generate_url(\"www.domain.com.au\", suburbs, bedrooms, price_range, keywords=keywords)"
   ]
  },
  {
   "cell_type": "code",
   "execution_count": 3,
   "metadata": {},
   "outputs": [],
   "source": [
    "driver = load_chromedriver()\n",
    "actions = ActionChains(driver)\n",
    "\n",
    "page_number = 1\n",
    "new_url = append_page_to_url(URL,page_number)\n",
    "all_urls = []\n",
    "while True:\n",
    "    driver.get(new_url)\n",
    "    XPATH_RESULT = \"/html/body/div[1]/div/div[2]/div[4]/div[2]/div[1]/div[2]/ul\"\n",
    "    XPATH_NEXT = \"/html/body/div[1]/div/div[2]/div[4]/div[2]/div[1]/div[3]/div[1]/div/a\"\n",
    "    try:\n",
    "        element = driver.find_element(By.XPATH,XPATH_RESULT)\n",
    "    except:\n",
    "        break\n",
    "    anchor_elements = element.find_elements(By.TAG_NAME, 'a')\n",
    "\n",
    "    # Iterate over the anchor elements and extract the href attributes\n",
    "    hrefs = [anchor.get_attribute('href') for anchor in anchor_elements]\n",
    "    all_urls.extend(hrefs)\n",
    "    # DO SOMETHING WITH HREFS\n",
    "    page_number += 1\n",
    "    new_url = append_page_to_url(URL, page_number)\n",
    "\n",
    "set_urls = set(all_urls)\n"
   ]
  }
 ],
 "metadata": {
  "kernelspec": {
   "display_name": "Python 3.10.6 64-bit",
   "language": "python",
   "name": "python3"
  },
  "language_info": {
   "codemirror_mode": {
    "name": "ipython",
    "version": 3
   },
   "file_extension": ".py",
   "mimetype": "text/x-python",
   "name": "python",
   "nbconvert_exporter": "python",
   "pygments_lexer": "ipython3",
   "version": "3.7.8"
  },
  "orig_nbformat": 4,
  "vscode": {
   "interpreter": {
    "hash": "aee8b7b246df8f9039afb4144a1f6fd8d2ca17a180786b69acc140d282b71a49"
   }
  }
 },
 "nbformat": 4,
 "nbformat_minor": 2
}
